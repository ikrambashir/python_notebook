{
 "cells": [
  {
   "cell_type": "markdown",
   "id": "f9262292",
   "metadata": {},
   "source": [
    "# Python ka chilla\n",
    "## How to use jupityr notebook\n",
    "### Basics of python\n",
    "**01- First program**"
   ]
  },
  {
   "cell_type": "code",
   "execution_count": 4,
   "id": "284be65c",
   "metadata": {},
   "outputs": [
    {
     "name": "stdout",
     "output_type": "stream",
     "text": [
      "5\n",
      "Hello World\n",
      "we are learning python\n"
     ]
    }
   ],
   "source": [
    "print(2+3)\n",
    "print(\"Hello World\")\n",
    "print(\"we are learning python\")"
   ]
  },
  {
   "cell_type": "markdown",
   "id": "3a1abf73",
   "metadata": {},
   "source": [
    "**02- Operator +,-,/,*,% (remainder)**"
   ]
  },
  {
   "cell_type": "code",
   "execution_count": 5,
   "id": "e3154502",
   "metadata": {
    "scrolled": true
   },
   "outputs": [
    {
     "name": "stdout",
     "output_type": "stream",
     "text": [
      "0\n",
      "8\n",
      "29.0\n"
     ]
    }
   ],
   "source": [
    "print(2//3)\n",
    "#for power function\n",
    "print(2**3)\n",
    "print((2*3)*3**2/2*3/3+6-4)"
   ]
  },
  {
   "cell_type": "markdown",
   "id": "a0ac4906",
   "metadata": {},
   "source": [
    "*PEMDAS*\n",
    "\n",
    "*perenthesis exponents multiply divide addition substraction*"
   ]
  },
  {
   "cell_type": "markdown",
   "id": "9d618c79",
   "metadata": {},
   "source": [
    "**03- Strings**"
   ]
  },
  {
   "cell_type": "code",
   "execution_count": 6,
   "id": "8d5aadbc",
   "metadata": {},
   "outputs": [
    {
     "name": "stdout",
     "output_type": "stream",
     "text": [
      "Hello World\n",
      "we are learning python\n",
      "Test for single quotes\n",
      "Test for double quotes\n",
      "test for triple quotes\n",
      "what's up?\n"
     ]
    }
   ],
   "source": [
    "print(\"Hello World\")\n",
    "print(\"we are learning python\")\n",
    "print('Test for single quotes')\n",
    "print(\"Test for double quotes\")\n",
    "print('''test for triple quotes''')\n",
    "\n",
    "print(\"what's up?\")"
   ]
  },
  {
   "cell_type": "markdown",
   "id": "10dda13d",
   "metadata": {},
   "source": [
    "**04- Comments**"
   ]
  },
  {
   "cell_type": "code",
   "execution_count": 7,
   "id": "cea5af52",
   "metadata": {},
   "outputs": [
    {
     "name": "stdout",
     "output_type": "stream",
     "text": [
      "how are you\n",
      "I am learning python\n",
      "10\n"
     ]
    }
   ],
   "source": [
    "print(\"how are you\") #for comment out (Ctrl + /)\n",
    "print(\"I am learning python\") #print a string\n",
    "print(2+8) #print operator function with numbers"
   ]
  },
  {
   "cell_type": "markdown",
   "id": "7f030821",
   "metadata": {},
   "source": [
    "**05- Variables**"
   ]
  },
  {
   "cell_type": "code",
   "execution_count": 8,
   "id": "0100581c",
   "metadata": {},
   "outputs": [
    {
     "name": "stdout",
     "output_type": "stream",
     "text": [
      "5\n",
      "I am python\n",
      "<class 'int'>\n",
      "<class 'str'>\n"
     ]
    }
   ],
   "source": [
    "#variables: objects containing specific values\n",
    "x = 5 #numeric or integer variable\n",
    "print(x)\n",
    "y= \"I am python\" # string variable\n",
    "print(y)\n",
    "#types of variables\n",
    "type(x)\n",
    "print(type(x))\n",
    "print(type(y))"
   ]
  },
  {
   "cell_type": "markdown",
   "id": "f161d4e2",
   "metadata": {},
   "source": [
    "*Rules to assign variable*\n",
    "\n",
    "1-the variable should contain letters, numbers or underscores\n",
    "\n",
    "2-Do not start with number e.g. dont write (2x)\n",
    "\n",
    "3-spaces are not allowed\n",
    "\n",
    "4-Do not use keywords used in functions (breaks, mean, media, test etc.)\n",
    "\n",
    "5-short and descriptive\n",
    "\n",
    "6-case sensitivity (lowercase, uppercase, lowercase should be use)"
   ]
  },
  {
   "cell_type": "code",
   "execution_count": 9,
   "id": "7f6617e8",
   "metadata": {},
   "outputs": [
    {
     "name": "stdout",
     "output_type": "stream",
     "text": [
      "Mangoes, Oranges\n",
      "<class 'str'>\n"
     ]
    }
   ],
   "source": [
    "fruit_basket= \"Mangoes, Oranges\"\n",
    "print(fruit_basket)\n",
    "print(type(fruit_basket))"
   ]
  },
  {
   "cell_type": "markdown",
   "id": "50763215",
   "metadata": {},
   "source": [
    "**06- Input Variables**"
   ]
  },
  {
   "cell_type": "code",
   "execution_count": 10,
   "id": "1ac306f2",
   "metadata": {},
   "outputs": [
    {
     "name": "stdout",
     "output_type": "stream",
     "text": [
      "mangoes\n"
     ]
    }
   ],
   "source": [
    "fruit_basket=\"mangoes\"\n",
    "print(fruit_basket)"
   ]
  },
  {
   "cell_type": "markdown",
   "id": "ab2b4a51",
   "metadata": {},
   "source": [
    "#input function"
   ]
  },
  {
   "cell_type": "code",
   "execution_count": 11,
   "id": "4be5ac08",
   "metadata": {},
   "outputs": [
    {
     "name": "stdout",
     "output_type": "stream",
     "text": [
      "which is your favoruit fruit? mango\n",
      "mango\n"
     ]
    }
   ],
   "source": [
    "fruit_basket=input(\"which is your favoruit fruit? \")\n",
    "print(fruit_basket)"
   ]
  },
  {
   "cell_type": "markdown",
   "id": "414b3959",
   "metadata": {},
   "source": [
    "#input of 2nd stage"
   ]
  },
  {
   "cell_type": "code",
   "execution_count": 12,
   "id": "27dc05e7",
   "metadata": {},
   "outputs": [
    {
     "name": "stdout",
     "output_type": "stream",
     "text": [
      "what is your name? ikram\n",
      "Hello! ikram\n"
     ]
    }
   ],
   "source": [
    "name=input(\"what is your name? \")\n",
    "greetings=\"Hello!\"\n",
    "print(greetings, name)"
   ]
  },
  {
   "cell_type": "markdown",
   "id": "13db06f7",
   "metadata": {},
   "source": [
    "#another way of stange 2 input fuction"
   ]
  },
  {
   "cell_type": "code",
   "execution_count": 13,
   "id": "dd4f0361",
   "metadata": {},
   "outputs": [
    {
     "name": "stdout",
     "output_type": "stream",
     "text": [
      "what is your name? ikram\n",
      "Hello! ikram\n"
     ]
    }
   ],
   "source": [
    "name=input(\"what is your name? \")\n",
    "print(\"Hello!\", name)"
   ]
  },
  {
   "cell_type": "markdown",
   "id": "0d043f72",
   "metadata": {},
   "source": [
    "#3rd stage input fuction"
   ]
  },
  {
   "cell_type": "code",
   "execution_count": 14,
   "id": "71436d91",
   "metadata": {},
   "outputs": [
    {
     "name": "stdout",
     "output_type": "stream",
     "text": [
      "what is your name? ikram\n",
      "how old are you? 31\n",
      "Hello! ikram ,you are still young\n"
     ]
    }
   ],
   "source": [
    "name= input(\"what is your name? \")\n",
    "age= input(\"how old are you? \")\n",
    "greetings= \"Hello!\"\n",
    "print(greetings, name, \",you are still young\")"
   ]
  },
  {
   "cell_type": "markdown",
   "id": "ddca8705",
   "metadata": {},
   "source": [
    "**07- Conditional logics**"
   ]
  },
  {
   "cell_type": "markdown",
   "id": "dd2025df",
   "metadata": {},
   "source": [
    "*logical operators are wither \"true pr flase\" or \"yes or no\" or \"0 or 1\"*\n",
    "\n",
    "*equal to                      ==*\n",
    "\n",
    "*not equal to                  !=*\n",
    "\n",
    "*less than                     <*\n",
    "\n",
    "*greater than                  >*\n",
    "\n",
    "*less than and equal to        <=*\n",
    "\n",
    "*greater than and equal to     >=*"
   ]
  },
  {
   "cell_type": "code",
   "execution_count": 15,
   "id": "815d9ca9",
   "metadata": {},
   "outputs": [
    {
     "name": "stdout",
     "output_type": "stream",
     "text": [
      "True\n"
     ]
    }
   ],
   "source": [
    "print(4==4)"
   ]
  },
  {
   "cell_type": "markdown",
   "id": "93939920",
   "metadata": {},
   "source": [
    "#application of logical operator"
   ]
  },
  {
   "cell_type": "code",
   "execution_count": 16,
   "id": "23dce6f2",
   "metadata": {},
   "outputs": [
    {
     "name": "stdout",
     "output_type": "stream",
     "text": [
      "False\n"
     ]
    }
   ],
   "source": [
    "eshal_age=4\n",
    "age_at_schol=5\n",
    "print(eshal_age==age_at_schol)"
   ]
  },
  {
   "cell_type": "markdown",
   "id": "fe5c4157",
   "metadata": {},
   "source": [
    "#input fuction and logical operator"
   ]
  },
  {
   "cell_type": "code",
   "execution_count": 1,
   "id": "805d070d",
   "metadata": {},
   "outputs": [
    {
     "name": "stdout",
     "output_type": "stream",
     "text": [
      "how old is eshal? 3\n",
      "<class 'int'>\n",
      "False\n"
     ]
    }
   ],
   "source": [
    "age_at_schol=5\n",
    "eshal_age= input(\"how old is eshal? \")\n",
    "eshal_age=int(eshal_age)\n",
    "print(type(eshal_age))\n",
    "print(eshal_age==age_at_schol)"
   ]
  },
  {
   "cell_type": "markdown",
   "id": "52d2de19",
   "metadata": {},
   "source": [
    "**08- Type conversion**"
   ]
  },
  {
   "cell_type": "code",
   "execution_count": null,
   "id": "9d587466",
   "metadata": {},
   "outputs": [],
   "source": [
    "x = 10          #integer\n",
    "y = 10.2        #float\n",
    "z = \"hello\"     #string"
   ]
  },
  {
   "cell_type": "markdown",
   "id": "80f53682",
   "metadata": {},
   "source": [
    "#implicit type conversion"
   ]
  },
  {
   "cell_type": "code",
   "execution_count": null,
   "id": "62d9edb4",
   "metadata": {},
   "outputs": [],
   "source": [
    "x=x/y\n",
    "print(x, \"Type of x is:\", type(x))"
   ]
  },
  {
   "cell_type": "markdown",
   "id": "0464c2a0",
   "metadata": {},
   "source": [
    "#explicit type conversion"
   ]
  },
  {
   "cell_type": "code",
   "execution_count": null,
   "id": "1687de74",
   "metadata": {},
   "outputs": [],
   "source": [
    "age=input(\"what is your age? \")\n",
    "age=int(age)\n",
    "print(age, type(int(age)))\n",
    "print(age, type(float(age)))"
   ]
  },
  {
   "cell_type": "markdown",
   "id": "214e94af",
   "metadata": {},
   "source": [
    "#name"
   ]
  },
  {
   "cell_type": "code",
   "execution_count": null,
   "id": "48f94435",
   "metadata": {},
   "outputs": [],
   "source": [
    "name=input(\"what is your name? \")\n",
    "print(name, type(str(name)))"
   ]
  },
  {
   "cell_type": "markdown",
   "id": "ff07f741",
   "metadata": {},
   "source": [
    "**09- If, els, elif**"
   ]
  },
  {
   "cell_type": "code",
   "execution_count": null,
   "id": "26b5701a",
   "metadata": {},
   "outputs": [],
   "source": [
    "required_age_at_school = 5\n",
    "eshal_age = 2"
   ]
  },
  {
   "cell_type": "markdown",
   "id": "41ccf983",
   "metadata": {},
   "source": [
    "#question: can eshal go to school"
   ]
  },
  {
   "cell_type": "code",
   "execution_count": null,
   "id": "56f1986f",
   "metadata": {},
   "outputs": [],
   "source": [
    "if eshal_age==required_age_at_school:\n",
    "    print(\"congratulation! eshal can join the school.\")\n",
    "elif eshal_age>required_age_at_school:\n",
    "    print(\"eshal should be in University\")\n",
    "elif eshal_age <=2:\n",
    "    print(\"eshal is still a baby\")\n",
    "else:\n",
    "    print(\"eshal cannot go to school\")"
   ]
  },
  {
   "cell_type": "markdown",
   "id": "319c029b",
   "metadata": {},
   "source": [
    "**10- Functions**"
   ]
  },
  {
   "cell_type": "code",
   "execution_count": null,
   "id": "260005e4",
   "metadata": {},
   "outputs": [],
   "source": [
    "print(\"i am pytho\")\n",
    "print(\"i am python\")\n",
    "print(\"i am python\")"
   ]
  },
  {
   "cell_type": "markdown",
   "id": "33092ba8",
   "metadata": {},
   "source": [
    "#defining a functions\n",
    "#from typing import Text"
   ]
  },
  {
   "cell_type": "code",
   "execution_count": null,
   "id": "ffac205c",
   "metadata": {},
   "outputs": [],
   "source": [
    "def print_batata():\n",
    "    print(\"i am pytho\")\n",
    "    print(\"i am python\")\n",
    "    print(\"i am python\")\n",
    "print_batata()"
   ]
  },
  {
   "cell_type": "markdown",
   "id": "e8bf9074",
   "metadata": {},
   "source": [
    "#2"
   ]
  },
  {
   "cell_type": "code",
   "execution_count": null,
   "id": "02d274bd",
   "metadata": {},
   "outputs": [],
   "source": [
    "def print_batata():\n",
    "    text=\"i am python\"\n",
    "    print(text)\n",
    "    print(text)\n",
    "    print(text)\n",
    "print_batata()"
   ]
  },
  {
   "cell_type": "markdown",
   "id": "fddf1d1e",
   "metadata": {},
   "source": [
    "#3"
   ]
  },
  {
   "cell_type": "code",
   "execution_count": null,
   "id": "307dbe04",
   "metadata": {},
   "outputs": [],
   "source": [
    "def print_batata(text):\n",
    "    print(text)\n",
    "    print(text)\n",
    "    print(text)\n",
    "print_batata(\"I am ikram learning python\")"
   ]
  },
  {
   "cell_type": "markdown",
   "id": "15af4daa",
   "metadata": {},
   "source": [
    "#defining a function with if, elif and else statment"
   ]
  },
  {
   "cell_type": "code",
   "execution_count": null,
   "id": "9bea9b48",
   "metadata": {},
   "outputs": [],
   "source": [
    "def school_calculator(age, text):\n",
    "    if age==5:\n",
    "        print(\"eshal can join the school\")\n",
    "    elif age>5:\n",
    "        print(\"eshal should got to higher school\")\n",
    "    else:\n",
    "        print(\"eshal is still a baby\")\n",
    "school_calculator(3.5, \"eshal\")"
   ]
  },
  {
   "cell_type": "markdown",
   "id": "912b7810",
   "metadata": {},
   "source": [
    "#defining a function of future"
   ]
  },
  {
   "cell_type": "code",
   "execution_count": null,
   "id": "1ba56b6c",
   "metadata": {},
   "outputs": [],
   "source": [
    "def future_age(age):\n",
    "    new_age=age+20\n",
    "    return new_age\n",
    "    print(new_age)\n",
    "\n",
    "future_predicted_age=future_age(31)\n",
    "print(future_predicted_age)"
   ]
  },
  {
   "cell_type": "markdown",
   "id": "461da187",
   "metadata": {},
   "source": [
    "**11- Loops**"
   ]
  },
  {
   "cell_type": "code",
   "execution_count": null,
   "id": "d1f81ed6",
   "metadata": {},
   "outputs": [],
   "source": [
    "for x in range(5,10):\n",
    "    print(x)"
   ]
  },
  {
   "cell_type": "markdown",
   "id": "42f9a9e0",
   "metadata": {},
   "source": [
    "#array"
   ]
  },
  {
   "cell_type": "code",
   "execution_count": null,
   "id": "f995fece",
   "metadata": {},
   "outputs": [],
   "source": [
    "days = [\"Mon\", \"Tue\", \"Wed\", \"Thu\", \"Fri\", \"Sat\", \"Sun\"]\n",
    "for d in days:\n",
    "    # if(d==\"Fri\"):break #loop stops\n",
    "    if(d==\"Fri\"): continue #skips d\n",
    "    print(d)"
   ]
  },
  {
   "cell_type": "markdown",
   "id": "05e142d8",
   "metadata": {},
   "source": [
    "**12- Import library**"
   ]
  },
  {
   "cell_type": "markdown",
   "id": "73c20aaa",
   "metadata": {},
   "source": [
    "#if you want to print the value of Pi"
   ]
  },
  {
   "cell_type": "code",
   "execution_count": null,
   "id": "a27dd271",
   "metadata": {},
   "outputs": [],
   "source": [
    "import math\n",
    "print(\"the value of pi is \", math.pi)\n",
    "import statistics\n",
    "x=[150, 250, 350, 450]\n",
    "print(statistics.mean(x))"
   ]
  },
  {
   "cell_type": "markdown",
   "id": "7e94dc15",
   "metadata": {},
   "source": [
    "**13- Trouble shooting**"
   ]
  },
  {
   "cell_type": "markdown",
   "id": "04187438",
   "metadata": {},
   "source": [
    " #syntax error"
   ]
  },
  {
   "cell_type": "code",
   "execution_count": null,
   "id": "5e30607e",
   "metadata": {},
   "outputs": [],
   "source": [
    "print(we are learning python)"
   ]
  },
  {
   "cell_type": "markdown",
   "id": "3bc87421",
   "metadata": {},
   "source": [
    "#runtime error"
   ]
  },
  {
   "cell_type": "code",
   "execution_count": null,
   "id": "de4c5ab0",
   "metadata": {},
   "outputs": [],
   "source": [
    "print(25/0) "
   ]
  },
  {
   "cell_type": "markdown",
   "id": "feff36b3",
   "metadata": {},
   "source": [
    "#symentic error, we thought insted of name your name will appear."
   ]
  },
  {
   "cell_type": "code",
   "execution_count": null,
   "id": "0e6f1e3b",
   "metadata": {},
   "outputs": [],
   "source": [
    "name= \"ikram\"\n",
    "print(\"Hello name\")\n",
    "print(\"Hello\", name)"
   ]
  }
 ],
 "metadata": {
  "kernelspec": {
   "display_name": "Python 3 (ipykernel)",
   "language": "python",
   "name": "python3"
  },
  "language_info": {
   "codemirror_mode": {
    "name": "ipython",
    "version": 3
   },
   "file_extension": ".py",
   "mimetype": "text/x-python",
   "name": "python",
   "nbconvert_exporter": "python",
   "pygments_lexer": "ipython3",
   "version": "3.9.7"
  }
 },
 "nbformat": 4,
 "nbformat_minor": 5
}
